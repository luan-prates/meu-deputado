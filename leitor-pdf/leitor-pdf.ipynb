{
 "cells": [
  {
   "cell_type": "code",
   "execution_count": 1,
   "metadata": {},
   "outputs": [],
   "source": [
    "#!pip install tabula-py"
   ]
  },
  {
   "cell_type": "code",
   "execution_count": 2,
   "metadata": {},
   "outputs": [],
   "source": [
    "from tabula import read_pdf\n",
    "import pandas as pd"
   ]
  },
  {
   "cell_type": "code",
   "execution_count": 3,
   "metadata": {},
   "outputs": [],
   "source": [
    "deputados_mes = [\n",
    "    ['Janeiro', '01',\n",
    "        ['ADERLANIA NORONHA', 'AGENOR NETO', 'ANTONIO GRANJA', 'AUDIC MOTA', 'AUGUSTA BRITO', 'BETHROSE',\n",
    "         'BRUNO GONCALVES', 'BRUNO PEDROSA', 'CAPITAO WAGNER', 'CARLOS FELIPE', 'CARLOS MATOS', 'DANNIEL OLIVEIRA',\n",
    "         'DAVID DURAND', 'DEDE TEIXEIRA', 'DR. SARTO', 'DRA SILVANA', 'ELMANO', 'ELY AGUIAR', 'EVANDRO LEITAO',\n",
    "         'FERNANDA PESSOA', 'FERNANDO HUGO', 'FERREIRA ARAGAO', 'GONY ARRUDA', 'HEITOR FERRER', 'JEOVA MOTA',\n",
    "         'JOAO JAIME', 'JOAQUIM NORONHA', 'JOSE ALBUQUERQUE', 'JULINHO', 'LEONARDO ARAUJO', 'LEONARDO PINHEIRO',\n",
    "         'LUCILVIO GIRAO', 'MANOEL DUCA', 'MARIO HELIO', 'MIRIAN SOBREIRA', 'MOISES BRAZ', 'ODILON AGUIAR',\n",
    "         'OSMAR BAQUIT', 'RACHEL MARQUES', 'RENATO ROSENO', 'ROBERIO MONTEIRO', 'ROBERTO MESQUITA', 'SERGIO AGUIAR',\n",
    "         'TIN GOMES', 'TOMAZ HOLANDA', 'WALTER CAVALCANTE']],\n",
    "    ['Fevereiro', '02',\n",
    "        ['ACRÍSIO SENA', 'ADERLANIA NORONHA', 'AGENOR NETO', 'ANDRE FERNANDES', 'ANTONIO GRANJA',\n",
    "          'AP. LUIZ HENRIQUE', 'AUDIC MOTA', 'AUGUSTA BRITO', 'BETHROSE', 'BRUNO GONCALVES',\n",
    "          'BRUNO PEDROSA', 'CAPITAO WAGNER', 'CARLOS FELIPE', 'CARLOS MATOS', 'DANNIEL OLIVEIRA',\n",
    "          'DAVID DURAND', 'DEDE TEIXEIRA', 'DELEGADO CAVALCANTE', 'DR. SARTO', 'DRA SILVANA', 'ELMANO',\n",
    "          'ELY AGUIAR', 'ERIKA AMORIM', 'EVANDRO LEITAO', 'FERNANDA PESSOA', 'FERNANDO HUGO',\n",
    "          'FERNANDO SANTANA', 'FERREIRA ARAGAO', 'GONY ARRUDA', 'GUILHERME LANDIM', 'HEITOR FERRER',\n",
    "          'JEOVA MOTA', 'JOAO JAIME', 'JOSE ALBUQUERQUE', 'JULINHO', 'LEONARDO ARAUJO', 'LEONARDO PINHEIRO',\n",
    "          'LUCILVIO GIRAO', 'MANOEL DUCA', 'MARCOS SOBREIRA', 'MARIO HELIO', 'MIRIAN SOBREIRA',\n",
    "          'MOISES BRAZ', 'NELINHO', 'NEZINHO FARIAS', 'NIZO COSTA', 'ODILON AGUIAR', 'OSMAR BAQUIT',\n",
    "          'PATRICIA AGUIAR', 'QUEIROZ FILHO', 'RACHEL MARQUES', 'RENATO ROSENO', 'ROBERIO MONTEIRO',\n",
    "          'ROMEU ALDIGUERI', 'SERGIO AGUIAR', 'SOLDADO NOELIO', 'TIN GOMES', 'TOMAZ HOLANDA', 'VITOR VALIM',\n",
    "          'WALTER CAVALCANTE']],\n",
    "    ['Março', '03',\n",
    "         ['ACRÍSIO SENA', 'ADERLANIA NORONHA', 'AGENOR NETO', 'ANDRE FERNANDES', 'ANTONIO GRANJA', 'AP. LUIZ HENRIQUE',\n",
    "          'AUDIC MOTA', 'AUGUSTA BRITO', 'BRUNO GONCALVES', 'BRUNO PEDROSA', 'CARLOS FELIPE', 'DANNIEL OLIVEIRA',\n",
    "          'DAVID DURAND', 'DELEGADO CAVALCANTE', 'DR. SARTO', 'DRA SILVANA', 'ELMANO', 'ERIKA AMORIM', 'EVANDRO LEITAO',\n",
    "          'FERNANDA PESSOA', 'FERNANDO HUGO', 'FERNANDO SANTANA', 'GONY ARRUDA', 'GUILHERME LANDIM', 'HEITOR FERRER',\n",
    "          'JEOVA MOTA', 'JOAO JAIME', 'JOSE ALBUQUERQUE', 'JULINHO', 'LEONARDO ARAUJO', 'LEONARDO PINHEIRO',\n",
    "          'LUCILVIO GIRAO', 'MANOEL DUCA', 'MARCOS SOBREIRA', 'MIRIAN SOBREIRA', 'MOISES BRAZ', 'NELINHO', 'NEZINHO FARIAS',\n",
    "          'NIZO COSTA', 'ODILON AGUIAR', 'OSMAR BAQUIT', 'PATRICIA AGUIAR', 'QUEIROZ FILHO', 'RENATO ROSENO',\n",
    "          'ROBERIO MONTEIRO', 'ROMEU ALDIGUERI', 'SERGIO AGUIAR', 'SOLDADO NOELIO', 'TIN GOMES', 'VITOR VALIM',\n",
    "          'WALTER CAVALCANTE']],\n",
    "    ['Abril', '04',\n",
    "        ['ACRÍSIO SENA', 'ADERLANIA NORONHA', 'AGENOR NETO', 'ANDRE FERNANDES', 'ANTONIO GRANJA', 'AP. LUIZ HENRIQUE',\n",
    "         'AUDIC MOTA', 'AUGUSTA BRITO', 'BRUNO GONCALVES', 'BRUNO PEDROSA', 'CARLOS FELIPE', 'DANNIEL OLIVEIRA',\n",
    "         'DAVID DURAND', 'DELEGADO CAVALCANTE', 'DR. SARTO', 'DRA SILVANA', 'ELMANO', 'ERIKA AMORIM', 'EVANDRO LEITAO',\n",
    "         'FERNANDA PESSOA', 'FERNANDO HUGO', 'FERNANDO SANTANA', 'GUILHERME LANDIM', 'HEITOR FERRER', 'JEOVA MOTA',\n",
    "         'JOAO JAIME', 'JÚLIOCÉSAR FILHO', 'LEONARDO ARAUJO', 'LEONARDO PINHEIRO', 'LUCILVIO GIRAO', 'MANOEL DUCA',\n",
    "         'MARCOS SOBREIRA', 'MOISES BRAZ', 'NELINHO', 'NEZINHO FARIAS', 'NIZO COSTA', 'OSMAR BAQUIT', 'PATRICIA AGUIAR',\n",
    "         'QUEIROZ FILHO', 'RENATO ROSENO', 'ROBERIO MONTEIRO', 'ROMEU ALDIGUERI', 'SALMITO', 'SERGIO AGUIAR',\n",
    "         'SOLDADO NOELIO', 'TIN GOMES', 'VITOR VALIM', 'WALTER CAVALCANTE']]\n",
    "]\n"
   ]
  },
  {
   "cell_type": "code",
   "execution_count": 4,
   "metadata": {},
   "outputs": [],
   "source": [
    "tabela = read_pdf(f\"PDFs/2019/Janeiro/ADERLANIA NORONHA.pdf\", pages='all')"
   ]
  },
  {
   "cell_type": "code",
   "execution_count": 5,
   "metadata": {},
   "outputs": [],
   "source": [
    "df = pd.DataFrame(tabela[0])"
   ]
  },
  {
   "cell_type": "code",
   "execution_count": 6,
   "metadata": {},
   "outputs": [],
   "source": [
    "df['Mes'] = 'Janeiro'"
   ]
  },
  {
   "cell_type": "code",
   "execution_count": 7,
   "metadata": {},
   "outputs": [],
   "source": [
    "erros = []\n",
    "df_geral = pd.DataFrame()\n",
    "for mes in deputados_mes:\n",
    "    str_mes = mes[0]\n",
    "    num_mes = mes[1]\n",
    "    deputados = mes[2]\n",
    "    for deputado in deputados:\n",
    "        deputado_rep = deputado.replace(' ', '+')\n",
    "        tabela = read_pdf(f\"PDFs/2019/{deputado}/{deputado_rep+'_2019'+str_mes}.pdf\", pages='all')\n",
    "        if len(tabela) != 0:\n",
    "            df = pd.DataFrame(tabela[0])\n",
    "            df = df.drop(df.index[-1])\n",
    "            #df = df.pivot(columns='Descrição', values='Valor')\n",
    "            df['Deputado'] = deputado\n",
    "            df['Data'] = f'01/{num_mes}/2019'\n",
    "            df_geral = pd.concat([df_geral, df])\n",
    "        else:\n",
    "            erros.append([str_mes, deputado])\n"
   ]
  },
  {
   "cell_type": "code",
   "execution_count": 8,
   "metadata": {},
   "outputs": [],
   "source": [
    "#df_geral.to_json('test.json', orient='table')"
   ]
  },
  {
   "cell_type": "code",
   "execution_count": 9,
   "metadata": {},
   "outputs": [],
   "source": [
    "df_geral.reset_index(inplace=True)"
   ]
  },
  {
   "cell_type": "code",
   "execution_count": 10,
   "metadata": {},
   "outputs": [],
   "source": [
    "df_geral.drop('index', axis=1, inplace=True)"
   ]
  },
  {
   "cell_type": "code",
   "execution_count": 11,
   "metadata": {},
   "outputs": [
    {
     "data": {
      "text/html": [
       "<div>\n",
       "<style scoped>\n",
       "    .dataframe tbody tr th:only-of-type {\n",
       "        vertical-align: middle;\n",
       "    }\n",
       "\n",
       "    .dataframe tbody tr th {\n",
       "        vertical-align: top;\n",
       "    }\n",
       "\n",
       "    .dataframe thead th {\n",
       "        text-align: right;\n",
       "    }\n",
       "</style>\n",
       "<table border=\"1\" class=\"dataframe\">\n",
       "  <thead>\n",
       "    <tr style=\"text-align: right;\">\n",
       "      <th></th>\n",
       "      <th>Descrição</th>\n",
       "      <th>Valor</th>\n",
       "      <th>Deputado</th>\n",
       "      <th>Data</th>\n",
       "    </tr>\n",
       "  </thead>\n",
       "  <tbody>\n",
       "    <tr>\n",
       "      <td>0</td>\n",
       "      <td>Combustíveis e Lubrificantes Automotivos</td>\n",
       "      <td>6.000,00</td>\n",
       "      <td>ADERLANIA NORONHA</td>\n",
       "      <td>01/01/2019</td>\n",
       "    </tr>\n",
       "    <tr>\n",
       "      <td>1</td>\n",
       "      <td>Vale-Refeição e Vale-Alimentação</td>\n",
       "      <td>5.000,00</td>\n",
       "      <td>ADERLANIA NORONHA</td>\n",
       "      <td>01/01/2019</td>\n",
       "    </tr>\n",
       "    <tr>\n",
       "      <td>2</td>\n",
       "      <td>Combustíveis e Lubrificantes Automotivos</td>\n",
       "      <td>6.000,00</td>\n",
       "      <td>AUDIC MOTA</td>\n",
       "      <td>01/01/2019</td>\n",
       "    </tr>\n",
       "    <tr>\n",
       "      <td>3</td>\n",
       "      <td>Divulgação das Atividades Parlamentares</td>\n",
       "      <td>4.100,00</td>\n",
       "      <td>AUDIC MOTA</td>\n",
       "      <td>01/01/2019</td>\n",
       "    </tr>\n",
       "    <tr>\n",
       "      <td>4</td>\n",
       "      <td>Seguros em Geral</td>\n",
       "      <td>504,04</td>\n",
       "      <td>AUDIC MOTA</td>\n",
       "      <td>01/01/2019</td>\n",
       "    </tr>\n",
       "    <tr>\n",
       "      <td>...</td>\n",
       "      <td>...</td>\n",
       "      <td>...</td>\n",
       "      <td>...</td>\n",
       "      <td>...</td>\n",
       "    </tr>\n",
       "    <tr>\n",
       "      <td>871</td>\n",
       "      <td>Seguros em Geral</td>\n",
       "      <td>1.453,18</td>\n",
       "      <td>WALTER CAVALCANTE</td>\n",
       "      <td>01/04/2019</td>\n",
       "    </tr>\n",
       "    <tr>\n",
       "      <td>872</td>\n",
       "      <td>Serviços Técnicos Profissionais</td>\n",
       "      <td>3.960,00</td>\n",
       "      <td>WALTER CAVALCANTE</td>\n",
       "      <td>01/04/2019</td>\n",
       "    </tr>\n",
       "    <tr>\n",
       "      <td>873</td>\n",
       "      <td>Serviços de Comunicação em Geral</td>\n",
       "      <td>2.087,79</td>\n",
       "      <td>WALTER CAVALCANTE</td>\n",
       "      <td>01/04/2019</td>\n",
       "    </tr>\n",
       "    <tr>\n",
       "      <td>874</td>\n",
       "      <td>Serviços de Telecomunicações - Pacote de Dados</td>\n",
       "      <td>292,53</td>\n",
       "      <td>WALTER CAVALCANTE</td>\n",
       "      <td>01/04/2019</td>\n",
       "    </tr>\n",
       "    <tr>\n",
       "      <td>875</td>\n",
       "      <td>Vale-Refeição e Vale-Alimentação</td>\n",
       "      <td>4.000,00</td>\n",
       "      <td>WALTER CAVALCANTE</td>\n",
       "      <td>01/04/2019</td>\n",
       "    </tr>\n",
       "  </tbody>\n",
       "</table>\n",
       "<p>876 rows × 4 columns</p>\n",
       "</div>"
      ],
      "text/plain": [
       "                                          Descrição     Valor  \\\n",
       "0          Combustíveis e Lubrificantes Automotivos  6.000,00   \n",
       "1                  Vale-Refeição e Vale-Alimentação  5.000,00   \n",
       "2          Combustíveis e Lubrificantes Automotivos  6.000,00   \n",
       "3           Divulgação das Atividades Parlamentares  4.100,00   \n",
       "4                                  Seguros em Geral    504,04   \n",
       "..                                              ...       ...   \n",
       "871                                Seguros em Geral  1.453,18   \n",
       "872                 Serviços Técnicos Profissionais  3.960,00   \n",
       "873                Serviços de Comunicação em Geral  2.087,79   \n",
       "874  Serviços de Telecomunicações - Pacote de Dados    292,53   \n",
       "875                Vale-Refeição e Vale-Alimentação  4.000,00   \n",
       "\n",
       "              Deputado        Data  \n",
       "0    ADERLANIA NORONHA  01/01/2019  \n",
       "1    ADERLANIA NORONHA  01/01/2019  \n",
       "2           AUDIC MOTA  01/01/2019  \n",
       "3           AUDIC MOTA  01/01/2019  \n",
       "4           AUDIC MOTA  01/01/2019  \n",
       "..                 ...         ...  \n",
       "871  WALTER CAVALCANTE  01/04/2019  \n",
       "872  WALTER CAVALCANTE  01/04/2019  \n",
       "873  WALTER CAVALCANTE  01/04/2019  \n",
       "874  WALTER CAVALCANTE  01/04/2019  \n",
       "875  WALTER CAVALCANTE  01/04/2019  \n",
       "\n",
       "[876 rows x 4 columns]"
      ]
     },
     "execution_count": 11,
     "metadata": {},
     "output_type": "execute_result"
    }
   ],
   "source": [
    "df_geral"
   ]
  },
  {
   "cell_type": "code",
   "execution_count": null,
   "metadata": {},
   "outputs": [],
   "source": []
  }
 ],
 "metadata": {
  "kernelspec": {
   "display_name": "Python 3",
   "language": "python",
   "name": "python3"
  },
  "language_info": {
   "codemirror_mode": {
    "name": "ipython",
    "version": 3
   },
   "file_extension": ".py",
   "mimetype": "text/x-python",
   "name": "python",
   "nbconvert_exporter": "python",
   "pygments_lexer": "ipython3",
   "version": "3.7.4"
  }
 },
 "nbformat": 4,
 "nbformat_minor": 2
}
